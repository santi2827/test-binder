{
  "nbformat": 4,
  "nbformat_minor": 0,
  "metadata": {
    "colab": {
      "name": "test_web_app.ipynb",
      "provenance": [],
      "authorship_tag": "ABX9TyM3oRnqlVxo8apyRNkZhg+/",
      "include_colab_link": true
    },
    "kernelspec": {
      "name": "python3",
      "display_name": "Python 3"
    },
    "language_info": {
      "name": "python"
    },
    "widgets": {
      "application/vnd.jupyter.widget-state+json": {
        "796cbc92e89d4b829e6167f2d3ff1ce1": {
          "model_module": "@jupyter-widgets/controls",
          "model_name": "FileUploadModel",
          "state": {
            "_view_name": "FileUploadView",
            "_counter": 1,
            "style": "IPY_MODEL_8dad6a500afc47b3a3918e0d934db4f7",
            "_dom_classes": [],
            "description": "Upload",
            "multiple": false,
            "_model_name": "FileUploadModel",
            "data": [
              null
            ],
            "button_style": "",
            "_view_module": "@jupyter-widgets/controls",
            "_model_module_version": "1.5.0",
            "accept": "",
            "_view_count": null,
            "disabled": false,
            "_view_module_version": "1.5.0",
            "error": "",
            "description_tooltip": null,
            "metadata": [
              {
                "name": "Yukee2.jpg",
                "type": "image/jpeg",
                "size": 79683,
                "lastModified": 1624895801994
              }
            ],
            "_model_module": "@jupyter-widgets/controls",
            "layout": "IPY_MODEL_572a28d4524e4f1eb6caf59d1ef6dbbd",
            "icon": "upload"
          }
        },
        "8dad6a500afc47b3a3918e0d934db4f7": {
          "model_module": "@jupyter-widgets/controls",
          "model_name": "ButtonStyleModel",
          "state": {
            "_view_name": "StyleView",
            "_model_name": "ButtonStyleModel",
            "_view_module": "@jupyter-widgets/base",
            "_model_module_version": "1.5.0",
            "_view_count": null,
            "button_color": null,
            "font_weight": "",
            "_view_module_version": "1.2.0",
            "_model_module": "@jupyter-widgets/controls"
          }
        },
        "572a28d4524e4f1eb6caf59d1ef6dbbd": {
          "model_module": "@jupyter-widgets/base",
          "model_name": "LayoutModel",
          "state": {
            "_view_name": "LayoutView",
            "grid_template_rows": null,
            "right": null,
            "justify_content": null,
            "_view_module": "@jupyter-widgets/base",
            "overflow": null,
            "_model_module_version": "1.2.0",
            "_view_count": null,
            "flex_flow": null,
            "width": null,
            "min_width": null,
            "border": null,
            "align_items": null,
            "bottom": null,
            "_model_module": "@jupyter-widgets/base",
            "top": null,
            "grid_column": null,
            "overflow_y": null,
            "overflow_x": null,
            "grid_auto_flow": null,
            "grid_area": null,
            "grid_template_columns": null,
            "flex": null,
            "_model_name": "LayoutModel",
            "justify_items": null,
            "grid_row": null,
            "max_height": null,
            "align_content": null,
            "visibility": null,
            "align_self": null,
            "height": null,
            "min_height": null,
            "padding": null,
            "grid_auto_rows": null,
            "grid_gap": null,
            "max_width": null,
            "order": null,
            "_view_module_version": "1.2.0",
            "grid_template_areas": null,
            "object_position": null,
            "object_fit": null,
            "grid_auto_columns": null,
            "margin": null,
            "display": null,
            "left": null
          }
        },
        "b952912ab99d45f4883321164c5f2f41": {
          "model_module": "@jupyter-widgets/controls",
          "model_name": "ButtonModel",
          "state": {
            "_view_name": "ButtonView",
            "style": "IPY_MODEL_44b16a7a299f45d087f6e754a13a792c",
            "_dom_classes": [],
            "description": "Classify",
            "_model_name": "ButtonModel",
            "button_style": "",
            "_view_module": "@jupyter-widgets/controls",
            "_model_module_version": "1.5.0",
            "tooltip": "",
            "_view_count": null,
            "disabled": false,
            "_view_module_version": "1.5.0",
            "layout": "IPY_MODEL_b6d2cf8767bc471fa41795919d001996",
            "_model_module": "@jupyter-widgets/controls",
            "icon": ""
          }
        },
        "44b16a7a299f45d087f6e754a13a792c": {
          "model_module": "@jupyter-widgets/controls",
          "model_name": "ButtonStyleModel",
          "state": {
            "_view_name": "StyleView",
            "_model_name": "ButtonStyleModel",
            "_view_module": "@jupyter-widgets/base",
            "_model_module_version": "1.5.0",
            "_view_count": null,
            "button_color": null,
            "font_weight": "",
            "_view_module_version": "1.2.0",
            "_model_module": "@jupyter-widgets/controls"
          }
        },
        "b6d2cf8767bc471fa41795919d001996": {
          "model_module": "@jupyter-widgets/base",
          "model_name": "LayoutModel",
          "state": {
            "_view_name": "LayoutView",
            "grid_template_rows": null,
            "right": null,
            "justify_content": null,
            "_view_module": "@jupyter-widgets/base",
            "overflow": null,
            "_model_module_version": "1.2.0",
            "_view_count": null,
            "flex_flow": null,
            "width": null,
            "min_width": null,
            "border": null,
            "align_items": null,
            "bottom": null,
            "_model_module": "@jupyter-widgets/base",
            "top": null,
            "grid_column": null,
            "overflow_y": null,
            "overflow_x": null,
            "grid_auto_flow": null,
            "grid_area": null,
            "grid_template_columns": null,
            "flex": null,
            "_model_name": "LayoutModel",
            "justify_items": null,
            "grid_row": null,
            "max_height": null,
            "align_content": null,
            "visibility": null,
            "align_self": null,
            "height": null,
            "min_height": null,
            "padding": null,
            "grid_auto_rows": null,
            "grid_gap": null,
            "max_width": null,
            "order": null,
            "_view_module_version": "1.2.0",
            "grid_template_areas": null,
            "object_position": null,
            "object_fit": null,
            "grid_auto_columns": null,
            "margin": null,
            "display": null,
            "left": null
          }
        },
        "e329f0ef615941e4905f7b7931740e44": {
          "model_module": "@jupyter-widgets/controls",
          "model_name": "VBoxModel",
          "state": {
            "_view_name": "VBoxView",
            "_dom_classes": [],
            "_model_name": "VBoxModel",
            "_view_module": "@jupyter-widgets/controls",
            "_model_module_version": "1.5.0",
            "_view_count": null,
            "_view_module_version": "1.5.0",
            "box_style": "",
            "layout": "IPY_MODEL_6cf5e11be19148a8b437c47b14274a05",
            "_model_module": "@jupyter-widgets/controls",
            "children": [
              "IPY_MODEL_f68fbcdd738146e584d64e9bd0fdb843",
              "IPY_MODEL_796cbc92e89d4b829e6167f2d3ff1ce1",
              "IPY_MODEL_b952912ab99d45f4883321164c5f2f41",
              "IPY_MODEL_b648ec278c0a4888a0c9325a4cfb179e",
              "IPY_MODEL_b8c4638772f3465ab44803e0bf956f81"
            ]
          }
        },
        "6cf5e11be19148a8b437c47b14274a05": {
          "model_module": "@jupyter-widgets/base",
          "model_name": "LayoutModel",
          "state": {
            "_view_name": "LayoutView",
            "grid_template_rows": null,
            "right": null,
            "justify_content": null,
            "_view_module": "@jupyter-widgets/base",
            "overflow": null,
            "_model_module_version": "1.2.0",
            "_view_count": null,
            "flex_flow": null,
            "width": null,
            "min_width": null,
            "border": null,
            "align_items": null,
            "bottom": null,
            "_model_module": "@jupyter-widgets/base",
            "top": null,
            "grid_column": null,
            "overflow_y": null,
            "overflow_x": null,
            "grid_auto_flow": null,
            "grid_area": null,
            "grid_template_columns": null,
            "flex": null,
            "_model_name": "LayoutModel",
            "justify_items": null,
            "grid_row": null,
            "max_height": null,
            "align_content": null,
            "visibility": null,
            "align_self": null,
            "height": null,
            "min_height": null,
            "padding": null,
            "grid_auto_rows": null,
            "grid_gap": null,
            "max_width": null,
            "order": null,
            "_view_module_version": "1.2.0",
            "grid_template_areas": null,
            "object_position": null,
            "object_fit": null,
            "grid_auto_columns": null,
            "margin": null,
            "display": null,
            "left": null
          }
        },
        "f68fbcdd738146e584d64e9bd0fdb843": {
          "model_module": "@jupyter-widgets/controls",
          "model_name": "LabelModel",
          "state": {
            "_view_name": "LabelView",
            "style": "IPY_MODEL_1d87745ad94a46d8b1f0a2052be723a8",
            "_dom_classes": [],
            "description": "",
            "_model_name": "LabelModel",
            "placeholder": "​",
            "_view_module": "@jupyter-widgets/controls",
            "_model_module_version": "1.5.0",
            "value": "Select your face!",
            "_view_count": null,
            "_view_module_version": "1.5.0",
            "description_tooltip": null,
            "_model_module": "@jupyter-widgets/controls",
            "layout": "IPY_MODEL_04f4163eb9f449b7be1e4023717f3bf4"
          }
        },
        "b648ec278c0a4888a0c9325a4cfb179e": {
          "model_module": "@jupyter-widgets/output",
          "model_name": "OutputModel",
          "state": {
            "_view_name": "OutputView",
            "msg_id": "",
            "_dom_classes": [],
            "_model_name": "OutputModel",
            "outputs": [
              {
                "output_type": "display_data",
                "metadata": {
                  "tags": []
                },
                "image/png": "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\n",
                "text/plain": "<PIL.Image.Image image mode=RGB size=85x128 at 0x7FCB9AC86350>"
              }
            ],
            "_view_module": "@jupyter-widgets/output",
            "_model_module_version": "1.0.0",
            "_view_count": null,
            "_view_module_version": "1.0.0",
            "layout": "IPY_MODEL_9d6b543890d245a29c280ae65d168b68",
            "_model_module": "@jupyter-widgets/output"
          }
        },
        "b8c4638772f3465ab44803e0bf956f81": {
          "model_module": "@jupyter-widgets/controls",
          "model_name": "LabelModel",
          "state": {
            "_view_name": "LabelView",
            "style": "IPY_MODEL_c01d36c228bf41e0839294a9053eb709",
            "_dom_classes": [],
            "description": "",
            "_model_name": "LabelModel",
            "placeholder": "​",
            "_view_module": "@jupyter-widgets/controls",
            "_model_module_version": "1.5.0",
            "value": "",
            "_view_count": null,
            "_view_module_version": "1.5.0",
            "description_tooltip": null,
            "_model_module": "@jupyter-widgets/controls",
            "layout": "IPY_MODEL_d5d8850524a84ab0a41c0396054b23ca"
          }
        },
        "1d87745ad94a46d8b1f0a2052be723a8": {
          "model_module": "@jupyter-widgets/controls",
          "model_name": "DescriptionStyleModel",
          "state": {
            "_view_name": "StyleView",
            "_model_name": "DescriptionStyleModel",
            "description_width": "",
            "_view_module": "@jupyter-widgets/base",
            "_model_module_version": "1.5.0",
            "_view_count": null,
            "_view_module_version": "1.2.0",
            "_model_module": "@jupyter-widgets/controls"
          }
        },
        "04f4163eb9f449b7be1e4023717f3bf4": {
          "model_module": "@jupyter-widgets/base",
          "model_name": "LayoutModel",
          "state": {
            "_view_name": "LayoutView",
            "grid_template_rows": null,
            "right": null,
            "justify_content": null,
            "_view_module": "@jupyter-widgets/base",
            "overflow": null,
            "_model_module_version": "1.2.0",
            "_view_count": null,
            "flex_flow": null,
            "width": null,
            "min_width": null,
            "border": null,
            "align_items": null,
            "bottom": null,
            "_model_module": "@jupyter-widgets/base",
            "top": null,
            "grid_column": null,
            "overflow_y": null,
            "overflow_x": null,
            "grid_auto_flow": null,
            "grid_area": null,
            "grid_template_columns": null,
            "flex": null,
            "_model_name": "LayoutModel",
            "justify_items": null,
            "grid_row": null,
            "max_height": null,
            "align_content": null,
            "visibility": null,
            "align_self": null,
            "height": null,
            "min_height": null,
            "padding": null,
            "grid_auto_rows": null,
            "grid_gap": null,
            "max_width": null,
            "order": null,
            "_view_module_version": "1.2.0",
            "grid_template_areas": null,
            "object_position": null,
            "object_fit": null,
            "grid_auto_columns": null,
            "margin": null,
            "display": null,
            "left": null
          }
        },
        "c01d36c228bf41e0839294a9053eb709": {
          "model_module": "@jupyter-widgets/controls",
          "model_name": "DescriptionStyleModel",
          "state": {
            "_view_name": "StyleView",
            "_model_name": "DescriptionStyleModel",
            "description_width": "",
            "_view_module": "@jupyter-widgets/base",
            "_model_module_version": "1.5.0",
            "_view_count": null,
            "_view_module_version": "1.2.0",
            "_model_module": "@jupyter-widgets/controls"
          }
        },
        "d5d8850524a84ab0a41c0396054b23ca": {
          "model_module": "@jupyter-widgets/base",
          "model_name": "LayoutModel",
          "state": {
            "_view_name": "LayoutView",
            "grid_template_rows": null,
            "right": null,
            "justify_content": null,
            "_view_module": "@jupyter-widgets/base",
            "overflow": null,
            "_model_module_version": "1.2.0",
            "_view_count": null,
            "flex_flow": null,
            "width": null,
            "min_width": null,
            "border": null,
            "align_items": null,
            "bottom": null,
            "_model_module": "@jupyter-widgets/base",
            "top": null,
            "grid_column": null,
            "overflow_y": null,
            "overflow_x": null,
            "grid_auto_flow": null,
            "grid_area": null,
            "grid_template_columns": null,
            "flex": null,
            "_model_name": "LayoutModel",
            "justify_items": null,
            "grid_row": null,
            "max_height": null,
            "align_content": null,
            "visibility": null,
            "align_self": null,
            "height": null,
            "min_height": null,
            "padding": null,
            "grid_auto_rows": null,
            "grid_gap": null,
            "max_width": null,
            "order": null,
            "_view_module_version": "1.2.0",
            "grid_template_areas": null,
            "object_position": null,
            "object_fit": null,
            "grid_auto_columns": null,
            "margin": null,
            "display": null,
            "left": null
          }
        },
        "9d6b543890d245a29c280ae65d168b68": {
          "model_module": "@jupyter-widgets/base",
          "model_name": "LayoutModel",
          "state": {
            "_view_name": "LayoutView",
            "grid_template_rows": null,
            "right": null,
            "justify_content": null,
            "_view_module": "@jupyter-widgets/base",
            "overflow": null,
            "_model_module_version": "1.2.0",
            "_view_count": null,
            "flex_flow": null,
            "width": null,
            "min_width": null,
            "border": null,
            "align_items": null,
            "bottom": null,
            "_model_module": "@jupyter-widgets/base",
            "top": null,
            "grid_column": null,
            "overflow_y": null,
            "overflow_x": null,
            "grid_auto_flow": null,
            "grid_area": null,
            "grid_template_columns": null,
            "flex": null,
            "_model_name": "LayoutModel",
            "justify_items": null,
            "grid_row": null,
            "max_height": null,
            "align_content": null,
            "visibility": null,
            "align_self": null,
            "height": null,
            "min_height": null,
            "padding": null,
            "grid_auto_rows": null,
            "grid_gap": null,
            "max_width": null,
            "order": null,
            "_view_module_version": "1.2.0",
            "grid_template_areas": null,
            "object_position": null,
            "object_fit": null,
            "grid_auto_columns": null,
            "margin": null,
            "display": null,
            "left": null
          }
        }
      }
    }
  },
  "cells": [
    {
      "cell_type": "markdown",
      "metadata": {
        "id": "view-in-github",
        "colab_type": "text"
      },
      "source": [
        "<a href=\"https://colab.research.google.com/github/santi2827/test-binder/blob/main/test_web_app.ipynb\" target=\"_parent\"><img src=\"https://colab.research.google.com/assets/colab-badge.svg\" alt=\"Open In Colab\"/></a>"
      ]
    },
    {
      "cell_type": "code",
      "metadata": {
        "id": "fPW_GF3Hpq39"
      },
      "source": [
        "#!pip install voila\n",
        "#!jupyter serverextension enable --sys-prefix voila"
      ],
      "execution_count": 1,
      "outputs": []
    },
    {
      "cell_type": "code",
      "metadata": {
        "colab": {
          "base_uri": "https://localhost:8080/"
        },
        "id": "y6XKxPpCYUCK",
        "outputId": "311dd332-b53a-47cd-aa65-5698f1f91abe"
      },
      "source": [
        "!pip install fastai --upgrade"
      ],
      "execution_count": 2,
      "outputs": [
        {
          "output_type": "stream",
          "text": [
            "Requirement already up-to-date: fastai in /usr/local/lib/python3.7/dist-packages (2.4)\n",
            "Requirement already satisfied, skipping upgrade: matplotlib in /usr/local/lib/python3.7/dist-packages (from fastai) (3.2.2)\n",
            "Requirement already satisfied, skipping upgrade: pandas in /usr/local/lib/python3.7/dist-packages (from fastai) (1.1.5)\n",
            "Requirement already satisfied, skipping upgrade: scipy in /usr/local/lib/python3.7/dist-packages (from fastai) (1.4.1)\n",
            "Requirement already satisfied, skipping upgrade: torchvision>=0.8.2 in /usr/local/lib/python3.7/dist-packages (from fastai) (0.10.0+cu102)\n",
            "Requirement already satisfied, skipping upgrade: pillow>6.0.0 in /usr/local/lib/python3.7/dist-packages (from fastai) (7.1.2)\n",
            "Requirement already satisfied, skipping upgrade: fastprogress>=0.2.4 in /usr/local/lib/python3.7/dist-packages (from fastai) (1.0.0)\n",
            "Requirement already satisfied, skipping upgrade: pip in /usr/local/lib/python3.7/dist-packages (from fastai) (19.3.1)\n",
            "Requirement already satisfied, skipping upgrade: spacy<4 in /usr/local/lib/python3.7/dist-packages (from fastai) (2.2.4)\n",
            "Requirement already satisfied, skipping upgrade: packaging in /usr/local/lib/python3.7/dist-packages (from fastai) (20.9)\n",
            "Requirement already satisfied, skipping upgrade: requests in /usr/local/lib/python3.7/dist-packages (from fastai) (2.23.0)\n",
            "Requirement already satisfied, skipping upgrade: pyyaml in /usr/local/lib/python3.7/dist-packages (from fastai) (3.13)\n",
            "Requirement already satisfied, skipping upgrade: fastcore<1.4,>=1.3.8 in /usr/local/lib/python3.7/dist-packages (from fastai) (1.3.20)\n",
            "Requirement already satisfied, skipping upgrade: scikit-learn in /usr/local/lib/python3.7/dist-packages (from fastai) (0.22.2.post1)\n",
            "Requirement already satisfied, skipping upgrade: torch<1.10,>=1.7.0 in /usr/local/lib/python3.7/dist-packages (from fastai) (1.9.0+cu102)\n",
            "Requirement already satisfied, skipping upgrade: kiwisolver>=1.0.1 in /usr/local/lib/python3.7/dist-packages (from matplotlib->fastai) (1.3.1)\n",
            "Requirement already satisfied, skipping upgrade: pyparsing!=2.0.4,!=2.1.2,!=2.1.6,>=2.0.1 in /usr/local/lib/python3.7/dist-packages (from matplotlib->fastai) (2.4.7)\n",
            "Requirement already satisfied, skipping upgrade: numpy>=1.11 in /usr/local/lib/python3.7/dist-packages (from matplotlib->fastai) (1.19.5)\n",
            "Requirement already satisfied, skipping upgrade: python-dateutil>=2.1 in /usr/local/lib/python3.7/dist-packages (from matplotlib->fastai) (2.8.1)\n",
            "Requirement already satisfied, skipping upgrade: cycler>=0.10 in /usr/local/lib/python3.7/dist-packages (from matplotlib->fastai) (0.10.0)\n",
            "Requirement already satisfied, skipping upgrade: pytz>=2017.2 in /usr/local/lib/python3.7/dist-packages (from pandas->fastai) (2018.9)\n",
            "Requirement already satisfied, skipping upgrade: srsly<1.1.0,>=1.0.2 in /usr/local/lib/python3.7/dist-packages (from spacy<4->fastai) (1.0.5)\n",
            "Requirement already satisfied, skipping upgrade: blis<0.5.0,>=0.4.0 in /usr/local/lib/python3.7/dist-packages (from spacy<4->fastai) (0.4.1)\n",
            "Requirement already satisfied, skipping upgrade: setuptools in /usr/local/lib/python3.7/dist-packages (from spacy<4->fastai) (57.0.0)\n",
            "Requirement already satisfied, skipping upgrade: preshed<3.1.0,>=3.0.2 in /usr/local/lib/python3.7/dist-packages (from spacy<4->fastai) (3.0.5)\n",
            "Requirement already satisfied, skipping upgrade: catalogue<1.1.0,>=0.0.7 in /usr/local/lib/python3.7/dist-packages (from spacy<4->fastai) (1.0.0)\n",
            "Requirement already satisfied, skipping upgrade: tqdm<5.0.0,>=4.38.0 in /usr/local/lib/python3.7/dist-packages (from spacy<4->fastai) (4.41.1)\n",
            "Requirement already satisfied, skipping upgrade: thinc==7.4.0 in /usr/local/lib/python3.7/dist-packages (from spacy<4->fastai) (7.4.0)\n",
            "Requirement already satisfied, skipping upgrade: wasabi<1.1.0,>=0.4.0 in /usr/local/lib/python3.7/dist-packages (from spacy<4->fastai) (0.8.2)\n",
            "Requirement already satisfied, skipping upgrade: murmurhash<1.1.0,>=0.28.0 in /usr/local/lib/python3.7/dist-packages (from spacy<4->fastai) (1.0.5)\n",
            "Requirement already satisfied, skipping upgrade: plac<1.2.0,>=0.9.6 in /usr/local/lib/python3.7/dist-packages (from spacy<4->fastai) (1.1.3)\n",
            "Requirement already satisfied, skipping upgrade: cymem<2.1.0,>=2.0.2 in /usr/local/lib/python3.7/dist-packages (from spacy<4->fastai) (2.0.5)\n",
            "Requirement already satisfied, skipping upgrade: certifi>=2017.4.17 in /usr/local/lib/python3.7/dist-packages (from requests->fastai) (2021.5.30)\n",
            "Requirement already satisfied, skipping upgrade: urllib3!=1.25.0,!=1.25.1,<1.26,>=1.21.1 in /usr/local/lib/python3.7/dist-packages (from requests->fastai) (1.24.3)\n",
            "Requirement already satisfied, skipping upgrade: chardet<4,>=3.0.2 in /usr/local/lib/python3.7/dist-packages (from requests->fastai) (3.0.4)\n",
            "Requirement already satisfied, skipping upgrade: idna<3,>=2.5 in /usr/local/lib/python3.7/dist-packages (from requests->fastai) (2.10)\n",
            "Requirement already satisfied, skipping upgrade: joblib>=0.11 in /usr/local/lib/python3.7/dist-packages (from scikit-learn->fastai) (1.0.1)\n",
            "Requirement already satisfied, skipping upgrade: typing-extensions in /usr/local/lib/python3.7/dist-packages (from torch<1.10,>=1.7.0->fastai) (3.7.4.3)\n",
            "Requirement already satisfied, skipping upgrade: six>=1.5 in /usr/local/lib/python3.7/dist-packages (from python-dateutil>=2.1->matplotlib->fastai) (1.15.0)\n",
            "Requirement already satisfied, skipping upgrade: importlib-metadata>=0.20; python_version < \"3.8\" in /usr/local/lib/python3.7/dist-packages (from catalogue<1.1.0,>=0.0.7->spacy<4->fastai) (4.5.0)\n",
            "Requirement already satisfied, skipping upgrade: zipp>=0.5 in /usr/local/lib/python3.7/dist-packages (from importlib-metadata>=0.20; python_version < \"3.8\"->catalogue<1.1.0,>=0.0.7->spacy<4->fastai) (3.4.1)\n"
          ],
          "name": "stdout"
        }
      ]
    },
    {
      "cell_type": "code",
      "metadata": {
        "id": "kJYpSizVxLY6"
      },
      "source": [
        "from fastai.vision.all import *\n",
        "from fastai.vision.widgets import *"
      ],
      "execution_count": 3,
      "outputs": []
    },
    {
      "cell_type": "code",
      "metadata": {
        "id": "297ru4xdHB9J"
      },
      "source": [
        "from fastai.basics import *\n",
        "from fastai.tabular.core import *\n",
        "from fastai.tabular.model import *"
      ],
      "execution_count": 4,
      "outputs": []
    },
    {
      "cell_type": "code",
      "metadata": {
        "id": "c4KsH_h1HDJW"
      },
      "source": [
        "from fastai.tabular.data import *"
      ],
      "execution_count": 5,
      "outputs": []
    },
    {
      "cell_type": "code",
      "metadata": {
        "colab": {
          "base_uri": "https://localhost:8080/"
        },
        "id": "9D_-Pnl5D2Bo",
        "outputId": "01d71433-39e1-4b37-b39d-d24bef587fa3"
      },
      "source": [
        "# Mount Google Drive\n",
        "from google.colab import drive\n",
        "drive.mount(\"/content/drive\")"
      ],
      "execution_count": 6,
      "outputs": [
        {
          "output_type": "stream",
          "text": [
            "Drive already mounted at /content/drive; to attempt to forcibly remount, call drive.mount(\"/content/drive\", force_remount=True).\n"
          ],
          "name": "stdout"
        }
      ]
    },
    {
      "cell_type": "code",
      "metadata": {
        "id": "hdZoExGoIpZ9"
      },
      "source": [
        "class TabularLearner(Learner):\n",
        "    \"`Learner` for tabular data\"\n",
        "    def predict(self, row):\n",
        "        \"Predict on a Pandas Series\"\n",
        "        # dl = self.dls.test_dl(row.to_frame().T)\n",
        "        dl = self.dls.test_dl(row)\n",
        "        dl.dataset.conts = dl.dataset.conts.astype(np.float32)\n",
        "        inp,preds,_,dec_preds = self.get_preds(dl=dl, with_input=True, with_decoded=True)\n",
        "        b = (*tuplify(inp),*tuplify(dec_preds))\n",
        "        full_dec = self.dls.decode(b)\n",
        "        return full_dec,dec_preds[0],preds[0]"
      ],
      "execution_count": 59,
      "outputs": []
    },
    {
      "cell_type": "code",
      "metadata": {
        "id": "rEh6kMouIqkh"
      },
      "source": [
        "@delegates(Learner.__init__)\n",
        "def tabular_learner(dls, layers=None, emb_szs=None, config=None, n_out=None, y_range=None, **kwargs):\n",
        "    \"Get a `Learner` using `dls`, with `metrics`, including a `TabularModel` created using the remaining params.\"\n",
        "    if config is None: config = tabular_config()\n",
        "    if layers is None: layers = [200,100]\n",
        "    to = dls.train_ds\n",
        "    emb_szs = get_emb_sz(dls.train_ds, {} if emb_szs is None else emb_szs)\n",
        "    if n_out is None: n_out = get_c(dls)\n",
        "    assert n_out, \"`n_out` is not defined, and could not be inferred from data, set `dls.c` or pass `n_out`\"\n",
        "    if y_range is None and 'y_range' in config: y_range = config.pop('y_range')\n",
        "    model = TabularModel(emb_szs, len(dls.cont_names), n_out, layers, y_range=y_range, **config)\n",
        "    return TabularLearner(dls, model, **kwargs)"
      ],
      "execution_count": 61,
      "outputs": []
    },
    {
      "cell_type": "markdown",
      "metadata": {
        "id": "tI4O0_C3W62e"
      },
      "source": [
        "# **Load Learner**"
      ]
    },
    {
      "cell_type": "code",
      "metadata": {
        "id": "GjO58Tt1xml8"
      },
      "source": [
        "# learn_inf = load_learner(path/'export.pkl', cpu=True)\n",
        "learn_inf = load_learner('/content/drive/MyDrive/Hairstyle Recommend/export.pkl', cpu=True)\n",
        "btn_upload = widgets.FileUpload()\n",
        "btn_run = widgets.Button(description='Classify')\n",
        "out_pl = widgets.Output()\n",
        "lbl_pred = widgets.Label()"
      ],
      "execution_count": 62,
      "outputs": []
    },
    {
      "cell_type": "code",
      "metadata": {
        "colab": {
          "base_uri": "https://localhost:8080/"
        },
        "id": "FXxRhdAhL_Qf",
        "outputId": "d909f967-7dbe-4bac-8951-27d6f3d9dd4c"
      },
      "source": [
        "print(type(learn_inf))"
      ],
      "execution_count": 63,
      "outputs": [
        {
          "output_type": "stream",
          "text": [
            "<class '__main__.TabularLearner'>\n"
          ],
          "name": "stdout"
        }
      ]
    },
    {
      "cell_type": "code",
      "metadata": {
        "colab": {
          "base_uri": "https://localhost:8080/"
        },
        "id": "1ILTCizVMGuv",
        "outputId": "2dac511d-7358-4386-b587-16ccb104eef9"
      },
      "source": [
        "learn_inf.dls.vocab"
      ],
      "execution_count": 64,
      "outputs": [
        {
          "output_type": "execute_result",
          "data": {
            "text/plain": [
              "['heart', 'long', 'oval', 'round', 'square']"
            ]
          },
          "metadata": {
            "tags": []
          },
          "execution_count": 64
        }
      ]
    },
    {
      "cell_type": "markdown",
      "metadata": {
        "id": "Zl_BqKudXHKw"
      },
      "source": [
        "# **Determine Function for Upload Button**"
      ]
    },
    {
      "cell_type": "code",
      "metadata": {
        "id": "MI-ssrOhxusC"
      },
      "source": [
        "def on_data_change(change):\n",
        "    lbl_pred.value = ''\n",
        "    img = PILImage.create(btn_upload.data[-1])\n",
        "    out_pl.clear_output()\n",
        "    with out_pl: display(img.to_thumb(128,128))\n",
        "    pred,pred_idx,probs = learn_inf.predict(img)\n",
        "    lbl_pred.value = f'Prediction: {pred}; Probability: {probs[pred_idx]:.04f}'"
      ],
      "execution_count": 65,
      "outputs": []
    },
    {
      "cell_type": "code",
      "metadata": {
        "id": "JcDt6L2Xx35d"
      },
      "source": [
        "btn_upload.observe(on_data_change, names=['data'])"
      ],
      "execution_count": 66,
      "outputs": []
    },
    {
      "cell_type": "code",
      "metadata": {
        "colab": {
          "base_uri": "https://localhost:8080/",
          "height": 49,
          "referenced_widgets": [
            "796cbc92e89d4b829e6167f2d3ff1ce1",
            "8dad6a500afc47b3a3918e0d934db4f7",
            "572a28d4524e4f1eb6caf59d1ef6dbbd"
          ]
        },
        "id": "hRN4G-SnNCU8",
        "outputId": "ba8acb5d-17a2-45e9-9a75-ea1af49f16ef"
      },
      "source": [
        "btn_upload"
      ],
      "execution_count": 67,
      "outputs": [
        {
          "output_type": "display_data",
          "data": {
            "application/vnd.jupyter.widget-view+json": {
              "model_id": "796cbc92e89d4b829e6167f2d3ff1ce1",
              "version_minor": 0,
              "version_major": 2
            },
            "text/plain": [
              "FileUpload(value={}, description='Upload')"
            ]
          },
          "metadata": {
            "tags": []
          }
        }
      ]
    },
    {
      "cell_type": "markdown",
      "metadata": {
        "id": "kdt8Hl4AXsJy"
      },
      "source": [
        "# **Determin Funtion for Classify Button**"
      ]
    },
    {
      "cell_type": "code",
      "metadata": {
        "id": "CYobz0UmNJBW"
      },
      "source": [
        "def on_click_classify(change):\n",
        "    img = PILImage.create(btn_upload.data[-1])\n",
        "    out_pl.clear_output()\n",
        "    with out_pl: display(img.to_thumb(128,128))\n",
        "    pred,pred_idx,probs = learn_inf.predict(img)\n",
        "    lbl_pred.value = f'Prediction: {pred}; Probability: {probs[pred_idx]:.04f}'"
      ],
      "execution_count": 68,
      "outputs": []
    },
    {
      "cell_type": "code",
      "metadata": {
        "id": "NuRauwZsNB4P"
      },
      "source": [
        "#hide_output\n",
        "btn_run = widgets.Button(description='Classify')"
      ],
      "execution_count": 69,
      "outputs": []
    },
    {
      "cell_type": "code",
      "metadata": {
        "colab": {
          "base_uri": "https://localhost:8080/",
          "height": 49,
          "referenced_widgets": [
            "b952912ab99d45f4883321164c5f2f41",
            "44b16a7a299f45d087f6e754a13a792c",
            "b6d2cf8767bc471fa41795919d001996"
          ]
        },
        "id": "Z7Ny4kb-M3b_",
        "outputId": "4b4a4750-a097-48b8-a62f-625066ded00d"
      },
      "source": [
        "btn_run"
      ],
      "execution_count": 70,
      "outputs": [
        {
          "output_type": "display_data",
          "data": {
            "application/vnd.jupyter.widget-view+json": {
              "model_id": "b952912ab99d45f4883321164c5f2f41",
              "version_minor": 0,
              "version_major": 2
            },
            "text/plain": [
              "Button(description='Classify', style=ButtonStyle())"
            ]
          },
          "metadata": {
            "tags": []
          }
        }
      ]
    },
    {
      "cell_type": "code",
      "metadata": {
        "id": "eL67C7iaVLr5"
      },
      "source": [
        "btn_run.on_click(on_click_classify)"
      ],
      "execution_count": 71,
      "outputs": []
    },
    {
      "cell_type": "markdown",
      "metadata": {
        "id": "6-xe45Apn5jG"
      },
      "source": [
        "# **The Web Application starts here**"
      ]
    },
    {
      "cell_type": "code",
      "metadata": {
        "colab": {
          "base_uri": "https://localhost:8080/",
          "height": 626,
          "referenced_widgets": [
            "e329f0ef615941e4905f7b7931740e44",
            "6cf5e11be19148a8b437c47b14274a05",
            "f68fbcdd738146e584d64e9bd0fdb843",
            "796cbc92e89d4b829e6167f2d3ff1ce1",
            "b952912ab99d45f4883321164c5f2f41",
            "b648ec278c0a4888a0c9325a4cfb179e",
            "b8c4638772f3465ab44803e0bf956f81",
            "1d87745ad94a46d8b1f0a2052be723a8",
            "04f4163eb9f449b7be1e4023717f3bf4",
            "8dad6a500afc47b3a3918e0d934db4f7",
            "572a28d4524e4f1eb6caf59d1ef6dbbd",
            "44b16a7a299f45d087f6e754a13a792c",
            "b6d2cf8767bc471fa41795919d001996",
            "c01d36c228bf41e0839294a9053eb709",
            "d5d8850524a84ab0a41c0396054b23ca",
            "9d6b543890d245a29c280ae65d168b68"
          ]
        },
        "id": "bKfxl7CvyAgn",
        "outputId": "7b2699bd-5f15-4890-fce3-03ebb3e6093c"
      },
      "source": [
        "\n",
        "display(VBox([widgets.Label('Select your face!'), btn_upload, btn_run , out_pl, lbl_pred]))"
      ],
      "execution_count": 72,
      "outputs": [
        {
          "output_type": "display_data",
          "data": {
            "application/vnd.jupyter.widget-view+json": {
              "model_id": "e329f0ef615941e4905f7b7931740e44",
              "version_minor": 0,
              "version_major": 2
            },
            "text/plain": [
              "VBox(children=(Label(value='Select your face!'), FileUpload(value={}, description='Upload'), Button(descriptio…"
            ]
          },
          "metadata": {
            "tags": []
          }
        },
        {
          "output_type": "error",
          "ename": "AttributeError",
          "evalue": "ignored",
          "traceback": [
            "\u001b[0;31m---------------------------------------------------------------------------\u001b[0m",
            "\u001b[0;31mAttributeError\u001b[0m                            Traceback (most recent call last)",
            "\u001b[0;32m/usr/local/lib/python3.7/dist-packages/ipywidgets/widgets/widget.py\u001b[0m in \u001b[0;36m_handle_msg\u001b[0;34m(self, msg)\u001b[0m\n\u001b[1;32m    674\u001b[0m                 \u001b[0;32mif\u001b[0m \u001b[0;34m'buffer_paths'\u001b[0m \u001b[0;32min\u001b[0m \u001b[0mdata\u001b[0m\u001b[0;34m:\u001b[0m\u001b[0;34m\u001b[0m\u001b[0;34m\u001b[0m\u001b[0m\n\u001b[1;32m    675\u001b[0m                     \u001b[0m_put_buffers\u001b[0m\u001b[0;34m(\u001b[0m\u001b[0mstate\u001b[0m\u001b[0;34m,\u001b[0m \u001b[0mdata\u001b[0m\u001b[0;34m[\u001b[0m\u001b[0;34m'buffer_paths'\u001b[0m\u001b[0;34m]\u001b[0m\u001b[0;34m,\u001b[0m \u001b[0mmsg\u001b[0m\u001b[0;34m[\u001b[0m\u001b[0;34m'buffers'\u001b[0m\u001b[0;34m]\u001b[0m\u001b[0;34m)\u001b[0m\u001b[0;34m\u001b[0m\u001b[0;34m\u001b[0m\u001b[0m\n\u001b[0;32m--> 676\u001b[0;31m                 \u001b[0mself\u001b[0m\u001b[0;34m.\u001b[0m\u001b[0mset_state\u001b[0m\u001b[0;34m(\u001b[0m\u001b[0mstate\u001b[0m\u001b[0;34m)\u001b[0m\u001b[0;34m\u001b[0m\u001b[0;34m\u001b[0m\u001b[0m\n\u001b[0m\u001b[1;32m    677\u001b[0m \u001b[0;34m\u001b[0m\u001b[0m\n\u001b[1;32m    678\u001b[0m         \u001b[0;31m# Handle a state request.\u001b[0m\u001b[0;34m\u001b[0m\u001b[0;34m\u001b[0m\u001b[0;34m\u001b[0m\u001b[0m\n",
            "\u001b[0;32m/usr/local/lib/python3.7/dist-packages/ipywidgets/widgets/widget.py\u001b[0m in \u001b[0;36mset_state\u001b[0;34m(self, sync_data)\u001b[0m\n\u001b[1;32m    543\u001b[0m                     from_json = self.trait_metadata(name, 'from_json',\n\u001b[1;32m    544\u001b[0m                                                     self._trait_from_json)\n\u001b[0;32m--> 545\u001b[0;31m                     \u001b[0mself\u001b[0m\u001b[0;34m.\u001b[0m\u001b[0mset_trait\u001b[0m\u001b[0;34m(\u001b[0m\u001b[0mname\u001b[0m\u001b[0;34m,\u001b[0m \u001b[0mfrom_json\u001b[0m\u001b[0;34m(\u001b[0m\u001b[0msync_data\u001b[0m\u001b[0;34m[\u001b[0m\u001b[0mname\u001b[0m\u001b[0;34m]\u001b[0m\u001b[0;34m,\u001b[0m \u001b[0mself\u001b[0m\u001b[0;34m)\u001b[0m\u001b[0;34m)\u001b[0m\u001b[0;34m\u001b[0m\u001b[0;34m\u001b[0m\u001b[0m\n\u001b[0m\u001b[1;32m    546\u001b[0m \u001b[0;34m\u001b[0m\u001b[0m\n\u001b[1;32m    547\u001b[0m     \u001b[0;32mdef\u001b[0m \u001b[0msend\u001b[0m\u001b[0;34m(\u001b[0m\u001b[0mself\u001b[0m\u001b[0;34m,\u001b[0m \u001b[0mcontent\u001b[0m\u001b[0;34m,\u001b[0m \u001b[0mbuffers\u001b[0m\u001b[0;34m=\u001b[0m\u001b[0;32mNone\u001b[0m\u001b[0;34m)\u001b[0m\u001b[0;34m:\u001b[0m\u001b[0;34m\u001b[0m\u001b[0;34m\u001b[0m\u001b[0m\n",
            "\u001b[0;32m/usr/lib/python3.7/contextlib.py\u001b[0m in \u001b[0;36m__exit__\u001b[0;34m(self, type, value, traceback)\u001b[0m\n\u001b[1;32m    117\u001b[0m         \u001b[0;32mif\u001b[0m \u001b[0mtype\u001b[0m \u001b[0;32mis\u001b[0m \u001b[0;32mNone\u001b[0m\u001b[0;34m:\u001b[0m\u001b[0;34m\u001b[0m\u001b[0;34m\u001b[0m\u001b[0m\n\u001b[1;32m    118\u001b[0m             \u001b[0;32mtry\u001b[0m\u001b[0;34m:\u001b[0m\u001b[0;34m\u001b[0m\u001b[0;34m\u001b[0m\u001b[0m\n\u001b[0;32m--> 119\u001b[0;31m                 \u001b[0mnext\u001b[0m\u001b[0;34m(\u001b[0m\u001b[0mself\u001b[0m\u001b[0;34m.\u001b[0m\u001b[0mgen\u001b[0m\u001b[0;34m)\u001b[0m\u001b[0;34m\u001b[0m\u001b[0;34m\u001b[0m\u001b[0m\n\u001b[0m\u001b[1;32m    120\u001b[0m             \u001b[0;32mexcept\u001b[0m \u001b[0mStopIteration\u001b[0m\u001b[0;34m:\u001b[0m\u001b[0;34m\u001b[0m\u001b[0;34m\u001b[0m\u001b[0m\n\u001b[1;32m    121\u001b[0m                 \u001b[0;32mreturn\u001b[0m \u001b[0;32mFalse\u001b[0m\u001b[0;34m\u001b[0m\u001b[0;34m\u001b[0m\u001b[0m\n",
            "\u001b[0;32m/usr/local/lib/python3.7/dist-packages/traitlets/traitlets.py\u001b[0m in \u001b[0;36mhold_trait_notifications\u001b[0;34m(self)\u001b[0m\n\u001b[1;32m   1212\u001b[0m                 \u001b[0;32mfor\u001b[0m \u001b[0mchanges\u001b[0m \u001b[0;32min\u001b[0m \u001b[0mcache\u001b[0m\u001b[0;34m.\u001b[0m\u001b[0mvalues\u001b[0m\u001b[0;34m(\u001b[0m\u001b[0;34m)\u001b[0m\u001b[0;34m:\u001b[0m\u001b[0;34m\u001b[0m\u001b[0;34m\u001b[0m\u001b[0m\n\u001b[1;32m   1213\u001b[0m                     \u001b[0;32mfor\u001b[0m \u001b[0mchange\u001b[0m \u001b[0;32min\u001b[0m \u001b[0mchanges\u001b[0m\u001b[0;34m:\u001b[0m\u001b[0;34m\u001b[0m\u001b[0;34m\u001b[0m\u001b[0m\n\u001b[0;32m-> 1214\u001b[0;31m                         \u001b[0mself\u001b[0m\u001b[0;34m.\u001b[0m\u001b[0mnotify_change\u001b[0m\u001b[0;34m(\u001b[0m\u001b[0mchange\u001b[0m\u001b[0;34m)\u001b[0m\u001b[0;34m\u001b[0m\u001b[0;34m\u001b[0m\u001b[0m\n\u001b[0m\u001b[1;32m   1215\u001b[0m \u001b[0;34m\u001b[0m\u001b[0m\n\u001b[1;32m   1216\u001b[0m     \u001b[0;32mdef\u001b[0m \u001b[0m_notify_trait\u001b[0m\u001b[0;34m(\u001b[0m\u001b[0mself\u001b[0m\u001b[0;34m,\u001b[0m \u001b[0mname\u001b[0m\u001b[0;34m,\u001b[0m \u001b[0mold_value\u001b[0m\u001b[0;34m,\u001b[0m \u001b[0mnew_value\u001b[0m\u001b[0;34m)\u001b[0m\u001b[0;34m:\u001b[0m\u001b[0;34m\u001b[0m\u001b[0;34m\u001b[0m\u001b[0m\n",
            "\u001b[0;32m/usr/local/lib/python3.7/dist-packages/ipywidgets/widgets/widget.py\u001b[0m in \u001b[0;36mnotify_change\u001b[0;34m(self, change)\u001b[0m\n\u001b[1;32m    604\u001b[0m                 \u001b[0;31m# Send new state to front-end\u001b[0m\u001b[0;34m\u001b[0m\u001b[0;34m\u001b[0m\u001b[0;34m\u001b[0m\u001b[0m\n\u001b[1;32m    605\u001b[0m                 \u001b[0mself\u001b[0m\u001b[0;34m.\u001b[0m\u001b[0msend_state\u001b[0m\u001b[0;34m(\u001b[0m\u001b[0mkey\u001b[0m\u001b[0;34m=\u001b[0m\u001b[0mname\u001b[0m\u001b[0;34m)\u001b[0m\u001b[0;34m\u001b[0m\u001b[0;34m\u001b[0m\u001b[0m\n\u001b[0;32m--> 606\u001b[0;31m         \u001b[0msuper\u001b[0m\u001b[0;34m(\u001b[0m\u001b[0mWidget\u001b[0m\u001b[0;34m,\u001b[0m \u001b[0mself\u001b[0m\u001b[0;34m)\u001b[0m\u001b[0;34m.\u001b[0m\u001b[0mnotify_change\u001b[0m\u001b[0;34m(\u001b[0m\u001b[0mchange\u001b[0m\u001b[0;34m)\u001b[0m\u001b[0;34m\u001b[0m\u001b[0;34m\u001b[0m\u001b[0m\n\u001b[0m\u001b[1;32m    607\u001b[0m \u001b[0;34m\u001b[0m\u001b[0m\n\u001b[1;32m    608\u001b[0m     \u001b[0;32mdef\u001b[0m \u001b[0m__repr__\u001b[0m\u001b[0;34m(\u001b[0m\u001b[0mself\u001b[0m\u001b[0;34m)\u001b[0m\u001b[0;34m:\u001b[0m\u001b[0;34m\u001b[0m\u001b[0;34m\u001b[0m\u001b[0m\n",
            "\u001b[0;32m/usr/local/lib/python3.7/dist-packages/traitlets/traitlets.py\u001b[0m in \u001b[0;36mnotify_change\u001b[0;34m(self, change)\u001b[0m\n\u001b[1;32m   1225\u001b[0m     \u001b[0;32mdef\u001b[0m \u001b[0mnotify_change\u001b[0m\u001b[0;34m(\u001b[0m\u001b[0mself\u001b[0m\u001b[0;34m,\u001b[0m \u001b[0mchange\u001b[0m\u001b[0;34m)\u001b[0m\u001b[0;34m:\u001b[0m\u001b[0;34m\u001b[0m\u001b[0;34m\u001b[0m\u001b[0m\n\u001b[1;32m   1226\u001b[0m         \u001b[0;34m\"\"\"Notify observers of a change event\"\"\"\u001b[0m\u001b[0;34m\u001b[0m\u001b[0;34m\u001b[0m\u001b[0m\n\u001b[0;32m-> 1227\u001b[0;31m         \u001b[0;32mreturn\u001b[0m \u001b[0mself\u001b[0m\u001b[0;34m.\u001b[0m\u001b[0m_notify_observers\u001b[0m\u001b[0;34m(\u001b[0m\u001b[0mchange\u001b[0m\u001b[0;34m)\u001b[0m\u001b[0;34m\u001b[0m\u001b[0;34m\u001b[0m\u001b[0m\n\u001b[0m\u001b[1;32m   1228\u001b[0m \u001b[0;34m\u001b[0m\u001b[0m\n\u001b[1;32m   1229\u001b[0m     \u001b[0;32mdef\u001b[0m \u001b[0m_notify_observers\u001b[0m\u001b[0;34m(\u001b[0m\u001b[0mself\u001b[0m\u001b[0;34m,\u001b[0m \u001b[0mevent\u001b[0m\u001b[0;34m)\u001b[0m\u001b[0;34m:\u001b[0m\u001b[0;34m\u001b[0m\u001b[0;34m\u001b[0m\u001b[0m\n",
            "\u001b[0;32m/usr/local/lib/python3.7/dist-packages/traitlets/traitlets.py\u001b[0m in \u001b[0;36m_notify_observers\u001b[0;34m(self, event)\u001b[0m\n\u001b[1;32m   1262\u001b[0m                 \u001b[0mc\u001b[0m \u001b[0;34m=\u001b[0m \u001b[0mgetattr\u001b[0m\u001b[0;34m(\u001b[0m\u001b[0mself\u001b[0m\u001b[0;34m,\u001b[0m \u001b[0mc\u001b[0m\u001b[0;34m.\u001b[0m\u001b[0mname\u001b[0m\u001b[0;34m)\u001b[0m\u001b[0;34m\u001b[0m\u001b[0;34m\u001b[0m\u001b[0m\n\u001b[1;32m   1263\u001b[0m \u001b[0;34m\u001b[0m\u001b[0m\n\u001b[0;32m-> 1264\u001b[0;31m             \u001b[0mc\u001b[0m\u001b[0;34m(\u001b[0m\u001b[0mevent\u001b[0m\u001b[0;34m)\u001b[0m\u001b[0;34m\u001b[0m\u001b[0;34m\u001b[0m\u001b[0m\n\u001b[0m\u001b[1;32m   1265\u001b[0m \u001b[0;34m\u001b[0m\u001b[0m\n\u001b[1;32m   1266\u001b[0m     \u001b[0;32mdef\u001b[0m \u001b[0m_add_notifiers\u001b[0m\u001b[0;34m(\u001b[0m\u001b[0mself\u001b[0m\u001b[0;34m,\u001b[0m \u001b[0mhandler\u001b[0m\u001b[0;34m,\u001b[0m \u001b[0mname\u001b[0m\u001b[0;34m,\u001b[0m \u001b[0mtype\u001b[0m\u001b[0;34m)\u001b[0m\u001b[0;34m:\u001b[0m\u001b[0;34m\u001b[0m\u001b[0;34m\u001b[0m\u001b[0m\n",
            "\u001b[0;32m<ipython-input-65-d6d3e158c1c9>\u001b[0m in \u001b[0;36mon_data_change\u001b[0;34m(change)\u001b[0m\n\u001b[1;32m      4\u001b[0m     \u001b[0mout_pl\u001b[0m\u001b[0;34m.\u001b[0m\u001b[0mclear_output\u001b[0m\u001b[0;34m(\u001b[0m\u001b[0;34m)\u001b[0m\u001b[0;34m\u001b[0m\u001b[0;34m\u001b[0m\u001b[0m\n\u001b[1;32m      5\u001b[0m     \u001b[0;32mwith\u001b[0m \u001b[0mout_pl\u001b[0m\u001b[0;34m:\u001b[0m \u001b[0mdisplay\u001b[0m\u001b[0;34m(\u001b[0m\u001b[0mimg\u001b[0m\u001b[0;34m.\u001b[0m\u001b[0mto_thumb\u001b[0m\u001b[0;34m(\u001b[0m\u001b[0;36m128\u001b[0m\u001b[0;34m,\u001b[0m\u001b[0;36m128\u001b[0m\u001b[0;34m)\u001b[0m\u001b[0;34m)\u001b[0m\u001b[0;34m\u001b[0m\u001b[0;34m\u001b[0m\u001b[0m\n\u001b[0;32m----> 6\u001b[0;31m     \u001b[0mpred\u001b[0m\u001b[0;34m,\u001b[0m\u001b[0mpred_idx\u001b[0m\u001b[0;34m,\u001b[0m\u001b[0mprobs\u001b[0m \u001b[0;34m=\u001b[0m \u001b[0mlearn_inf\u001b[0m\u001b[0;34m.\u001b[0m\u001b[0mpredict\u001b[0m\u001b[0;34m(\u001b[0m\u001b[0mimg\u001b[0m\u001b[0;34m)\u001b[0m\u001b[0;34m\u001b[0m\u001b[0;34m\u001b[0m\u001b[0m\n\u001b[0m\u001b[1;32m      7\u001b[0m     \u001b[0mlbl_pred\u001b[0m\u001b[0;34m.\u001b[0m\u001b[0mvalue\u001b[0m \u001b[0;34m=\u001b[0m \u001b[0;34mf'Prediction: {pred}; Probability: {probs[pred_idx]:.04f}'\u001b[0m\u001b[0;34m\u001b[0m\u001b[0;34m\u001b[0m\u001b[0m\n",
            "\u001b[0;32m<ipython-input-59-b7bb1124a141>\u001b[0m in \u001b[0;36mpredict\u001b[0;34m(self, row)\u001b[0m\n\u001b[1;32m      4\u001b[0m         \u001b[0;34m\"Predict on a Pandas Series\"\u001b[0m\u001b[0;34m\u001b[0m\u001b[0;34m\u001b[0m\u001b[0m\n\u001b[1;32m      5\u001b[0m         \u001b[0;31m# dl = self.dls.test_dl(row.to_frame().T)\u001b[0m\u001b[0;34m\u001b[0m\u001b[0;34m\u001b[0m\u001b[0;34m\u001b[0m\u001b[0m\n\u001b[0;32m----> 6\u001b[0;31m         \u001b[0mdl\u001b[0m \u001b[0;34m=\u001b[0m \u001b[0mself\u001b[0m\u001b[0;34m.\u001b[0m\u001b[0mdls\u001b[0m\u001b[0;34m.\u001b[0m\u001b[0mtest_dl\u001b[0m\u001b[0;34m(\u001b[0m\u001b[0mrow\u001b[0m\u001b[0;34m.\u001b[0m\u001b[0mT\u001b[0m\u001b[0;34m)\u001b[0m\u001b[0;34m\u001b[0m\u001b[0;34m\u001b[0m\u001b[0m\n\u001b[0m\u001b[1;32m      7\u001b[0m         \u001b[0mdl\u001b[0m\u001b[0;34m.\u001b[0m\u001b[0mdataset\u001b[0m\u001b[0;34m.\u001b[0m\u001b[0mconts\u001b[0m \u001b[0;34m=\u001b[0m \u001b[0mdl\u001b[0m\u001b[0;34m.\u001b[0m\u001b[0mdataset\u001b[0m\u001b[0;34m.\u001b[0m\u001b[0mconts\u001b[0m\u001b[0;34m.\u001b[0m\u001b[0mastype\u001b[0m\u001b[0;34m(\u001b[0m\u001b[0mnp\u001b[0m\u001b[0;34m.\u001b[0m\u001b[0mfloat32\u001b[0m\u001b[0;34m)\u001b[0m\u001b[0;34m\u001b[0m\u001b[0;34m\u001b[0m\u001b[0m\n\u001b[1;32m      8\u001b[0m         \u001b[0minp\u001b[0m\u001b[0;34m,\u001b[0m\u001b[0mpreds\u001b[0m\u001b[0;34m,\u001b[0m\u001b[0m_\u001b[0m\u001b[0;34m,\u001b[0m\u001b[0mdec_preds\u001b[0m \u001b[0;34m=\u001b[0m \u001b[0mself\u001b[0m\u001b[0;34m.\u001b[0m\u001b[0mget_preds\u001b[0m\u001b[0;34m(\u001b[0m\u001b[0mdl\u001b[0m\u001b[0;34m=\u001b[0m\u001b[0mdl\u001b[0m\u001b[0;34m,\u001b[0m \u001b[0mwith_input\u001b[0m\u001b[0;34m=\u001b[0m\u001b[0;32mTrue\u001b[0m\u001b[0;34m,\u001b[0m \u001b[0mwith_decoded\u001b[0m\u001b[0;34m=\u001b[0m\u001b[0;32mTrue\u001b[0m\u001b[0;34m)\u001b[0m\u001b[0;34m\u001b[0m\u001b[0;34m\u001b[0m\u001b[0m\n",
            "\u001b[0;31mAttributeError\u001b[0m: 'PILImage' object has no attribute 'T'"
          ]
        }
      ]
    },
    {
      "cell_type": "code",
      "metadata": {
        "id": "zIwXVCrJAfig"
      },
      "source": [
        ""
      ],
      "execution_count": null,
      "outputs": []
    }
  ]
}